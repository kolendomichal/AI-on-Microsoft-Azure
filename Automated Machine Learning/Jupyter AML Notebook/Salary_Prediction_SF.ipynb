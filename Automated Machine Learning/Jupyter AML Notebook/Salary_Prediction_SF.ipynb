{
  "cells": [
    {
      "cell_type": "markdown",
      "source": [
        "# Use Case\n",
        "Predict Total Salary of San Francisco Government employees based on what type of job they are working.\n",
        "\n",
        "![dataset](./dataset.png \"Dataset\")\n",
        "\n",
        "## Prerequisities\n",
        "- microsoft account\n",
        "- active subscription on given microsoft account\n",
        "\n",
        "This is necessary to log in to Azure Portal and start creating your new resource.\n",
        "\n",
        "1. Firstly create **Machine Learning** resource.\n",
        "2. After successfully creating resource , open it and go to resource overview.  \n",
        "Copy **Studio Web Url**.\n",
        "![Studio web url](./aml_url.png \"Studio web url\") \n",
        "3. Log in to **ml.azure.com**, click on **Notebooks** tab.\n",
        "4. Import all files from [Jupyter AML Notebook - SF Salary](https://github.com/kolendomichal/AI-on-Microsoft-Azure/blob/master/Automated%20Machine%20Learning/Jupyter%20AML%20Notebook)\n",
        "5. Select the notebook and run all cells.\n"
      ],
      "metadata": {
        "nteract": {
          "transient": {
            "deleting": false
          }
        }
      }
    },
    {
      "cell_type": "markdown",
      "source": [
        "# Authenticate to Azure\r\n",
        "In this step you will be prompted to authenticate to your Azure account.    \r\n",
        "After inserting provided code, Jupyter Notebook will gain access to your Azure resources."
      ],
      "metadata": {
        "nteract": {
          "transient": {
            "deleting": false
          }
        }
      }
    },
    {
      "cell_type": "code",
      "source": [
        "# azureml-core of version 1.0.72 or higher is required\r\n",
        "from azureml.core import Workspace, Dataset\r\n",
        "\r\n",
        "# Get Workspace defined in by default config.json file\r\n",
        "ws = Workspace.from_config()"
      ],
      "outputs": [],
      "execution_count": 33,
      "metadata": {
        "collapsed": true,
        "jupyter": {
          "source_hidden": false,
          "outputs_hidden": false
        },
        "nteract": {
          "transient": {
            "deleting": false
          }
        },
        "gather": {
          "logged": 1608985036845
        }
      }
    },
    {
      "cell_type": "markdown",
      "source": [
        "In order to run the algorithm, download the [Employee Compensation in SF dataset](https://data.world/data-society/employee-compensation-in-sf).  \r\n",
        "Then, import it into **Azure Machine Learning Studio** in **Datasets** tab.  \r\n",
        "Azure Machine Learning studio will automatically set type of the column and recognize how the file is formatted.\r\n",
        "\r\n",
        "\r\n",
        "Give the dataset a name: **\"San-Francisco-Employee-Salaries\"**. It will be used in further steps.\r\n",
        "\r\n",
        "![import_dataset_to_workspace](./import_dataset_to_workspace.png \"Importing Dataset\")"
      ],
      "metadata": {
        "nteract": {
          "transient": {
            "deleting": false
          }
        }
      }
    },
    {
      "cell_type": "markdown",
      "source": [
        "# Display loaded dataset\r\n",
        "In step below, after setting dataset_name, Jupyter Notebook will load the data from your **Workspace** and display few rows for confirmation."
      ],
      "metadata": {
        "nteract": {
          "transient": {
            "deleting": false
          }
        }
      }
    },
    {
      "cell_type": "code",
      "source": [
        "# Load Data\r\n",
        "dataset_name = 'San-Francisco-Employee-Salaries'\r\n",
        "aml_dataset = ws.datasets[dataset_name]\r\n",
        "\r\n",
        "# Use Pandas DataFrame just to sneak peak some data and schema\r\n",
        "full_df = aml_dataset.to_pandas_dataframe()\r\n",
        "full_df.head()"
      ],
      "outputs": [
        {
          "output_type": "execute_result",
          "execution_count": 3,
          "data": {
            "text/plain": "  Year Type  Year  Organization Group Code    Organization Group  \\\n0    Fiscal  2016                        1     Public Protection   \n1  Calendar  2013                        5  Culture & Recreation   \n2  Calendar  2015                        4      Community Health   \n3    Fiscal  2015                        4      Community Health   \n4    Fiscal  2014                        5  Culture & Recreation   \n\n  Department Code                      Department  Union Code  \\\n0             DAT               District Attorney       311.0   \n1             ART                 Arts Commission       790.0   \n2             DPH                   Public Health       535.0   \n3             DPH                   Public Health       250.0   \n4             REC  Recreation and Park Commission       790.0   \n\n                               Union  Job Family Code  \\\n0   Municipal Attorneys' Association           8100.0   \n1   SEIU - Miscellaneous, Local 1021           1800.0   \n2  SEIU - Human Services, Local 1021           2900.0   \n3  SEIU - Health Workers, Local 1021           2200.0   \n4   SEIU - Miscellaneous, Local 1021           3200.0   \n\n                      Job Family  ...  Employee Identifier   Salaries  \\\n0                  Legal & Court  ...                49919  114473.16   \n1  Budget, Admn & Stats Analysis  ...                 1225   84077.11   \n2                 Human Services  ...                34873    9980.17   \n3               Medical & Dental  ...                51145    2873.41   \n4                     Recreation  ...                48705    6701.85   \n\n   Overtime  Other Salaries  Total Salary  Retirement  Health/Dental  \\\n0       0.0         1500.00     115973.16    21025.98       13068.80   \n1       0.0            0.00      84077.11    16587.30       12457.73   \n2       0.0          798.43      10778.60        0.00        2254.93   \n3       0.0            0.00       2873.41        0.00         622.63   \n4       0.0          176.70       6878.55        0.00        2711.66   \n\n   Other Benefits  Total Benefits  Total Compensation  \n0         9368.71        43463.49           159436.65  \n1         6931.91        35976.94           120054.05  \n2          835.11         3090.04            13868.64  \n3          222.46          845.09             3718.50  \n4          538.43         3250.09            10128.64  \n\n[5 rows x 22 columns]",
            "text/html": "<div>\n<style scoped>\n    .dataframe tbody tr th:only-of-type {\n        vertical-align: middle;\n    }\n\n    .dataframe tbody tr th {\n        vertical-align: top;\n    }\n\n    .dataframe thead th {\n        text-align: right;\n    }\n</style>\n<table border=\"1\" class=\"dataframe\">\n  <thead>\n    <tr style=\"text-align: right;\">\n      <th></th>\n      <th>Year Type</th>\n      <th>Year</th>\n      <th>Organization Group Code</th>\n      <th>Organization Group</th>\n      <th>Department Code</th>\n      <th>Department</th>\n      <th>Union Code</th>\n      <th>Union</th>\n      <th>Job Family Code</th>\n      <th>Job Family</th>\n      <th>...</th>\n      <th>Employee Identifier</th>\n      <th>Salaries</th>\n      <th>Overtime</th>\n      <th>Other Salaries</th>\n      <th>Total Salary</th>\n      <th>Retirement</th>\n      <th>Health/Dental</th>\n      <th>Other Benefits</th>\n      <th>Total Benefits</th>\n      <th>Total Compensation</th>\n    </tr>\n  </thead>\n  <tbody>\n    <tr>\n      <th>0</th>\n      <td>Fiscal</td>\n      <td>2016</td>\n      <td>1</td>\n      <td>Public Protection</td>\n      <td>DAT</td>\n      <td>District Attorney</td>\n      <td>311.0</td>\n      <td>Municipal Attorneys' Association</td>\n      <td>8100.0</td>\n      <td>Legal &amp; Court</td>\n      <td>...</td>\n      <td>49919</td>\n      <td>114473.16</td>\n      <td>0.0</td>\n      <td>1500.00</td>\n      <td>115973.16</td>\n      <td>21025.98</td>\n      <td>13068.80</td>\n      <td>9368.71</td>\n      <td>43463.49</td>\n      <td>159436.65</td>\n    </tr>\n    <tr>\n      <th>1</th>\n      <td>Calendar</td>\n      <td>2013</td>\n      <td>5</td>\n      <td>Culture &amp; Recreation</td>\n      <td>ART</td>\n      <td>Arts Commission</td>\n      <td>790.0</td>\n      <td>SEIU - Miscellaneous, Local 1021</td>\n      <td>1800.0</td>\n      <td>Budget, Admn &amp; Stats Analysis</td>\n      <td>...</td>\n      <td>1225</td>\n      <td>84077.11</td>\n      <td>0.0</td>\n      <td>0.00</td>\n      <td>84077.11</td>\n      <td>16587.30</td>\n      <td>12457.73</td>\n      <td>6931.91</td>\n      <td>35976.94</td>\n      <td>120054.05</td>\n    </tr>\n    <tr>\n      <th>2</th>\n      <td>Calendar</td>\n      <td>2015</td>\n      <td>4</td>\n      <td>Community Health</td>\n      <td>DPH</td>\n      <td>Public Health</td>\n      <td>535.0</td>\n      <td>SEIU - Human Services, Local 1021</td>\n      <td>2900.0</td>\n      <td>Human Services</td>\n      <td>...</td>\n      <td>34873</td>\n      <td>9980.17</td>\n      <td>0.0</td>\n      <td>798.43</td>\n      <td>10778.60</td>\n      <td>0.00</td>\n      <td>2254.93</td>\n      <td>835.11</td>\n      <td>3090.04</td>\n      <td>13868.64</td>\n    </tr>\n    <tr>\n      <th>3</th>\n      <td>Fiscal</td>\n      <td>2015</td>\n      <td>4</td>\n      <td>Community Health</td>\n      <td>DPH</td>\n      <td>Public Health</td>\n      <td>250.0</td>\n      <td>SEIU - Health Workers, Local 1021</td>\n      <td>2200.0</td>\n      <td>Medical &amp; Dental</td>\n      <td>...</td>\n      <td>51145</td>\n      <td>2873.41</td>\n      <td>0.0</td>\n      <td>0.00</td>\n      <td>2873.41</td>\n      <td>0.00</td>\n      <td>622.63</td>\n      <td>222.46</td>\n      <td>845.09</td>\n      <td>3718.50</td>\n    </tr>\n    <tr>\n      <th>4</th>\n      <td>Fiscal</td>\n      <td>2014</td>\n      <td>5</td>\n      <td>Culture &amp; Recreation</td>\n      <td>REC</td>\n      <td>Recreation and Park Commission</td>\n      <td>790.0</td>\n      <td>SEIU - Miscellaneous, Local 1021</td>\n      <td>3200.0</td>\n      <td>Recreation</td>\n      <td>...</td>\n      <td>48705</td>\n      <td>6701.85</td>\n      <td>0.0</td>\n      <td>176.70</td>\n      <td>6878.55</td>\n      <td>0.00</td>\n      <td>2711.66</td>\n      <td>538.43</td>\n      <td>3250.09</td>\n      <td>10128.64</td>\n    </tr>\n  </tbody>\n</table>\n<p>5 rows × 22 columns</p>\n</div>"
          },
          "metadata": {}
        }
      ],
      "execution_count": 3,
      "metadata": {
        "collapsed": true,
        "jupyter": {
          "source_hidden": false,
          "outputs_hidden": false
        },
        "nteract": {
          "transient": {
            "deleting": false
          }
        },
        "gather": {
          "logged": 1608980997572
        }
      }
    },
    {
      "cell_type": "code",
      "source": [
        "# Use Pandas DataFrame just to investigate the dataset's schema and info\r\n",
        "full_df.describe()"
      ],
      "outputs": [
        {
          "output_type": "execute_result",
          "execution_count": 4,
          "data": {
            "text/plain": "       Organization Group Code     Union Code  Job Family Code       Job Code  \\\ncount            291825.000000  291782.000000    257154.000000  247664.000000   \nmean                  2.977051     489.506076      4778.559540    4911.798752   \nstd                   1.577771     333.761136      3090.283172    3128.412315   \nmin                   1.000000       1.000000       900.000000     109.000000   \n25%                   2.000000     216.000000      2300.000000    2312.000000   \n50%                   2.000000     535.000000      3200.000000    3417.000000   \n75%                   4.000000     790.000000      8100.000000    8201.000000   \nmax                   7.000000     990.000000      9900.000000    9989.000000   \n\n       Employee Identifier       Salaries       Overtime  Other Salaries  \\\ncount        291825.000000  291825.000000  291825.000000   291825.000000   \nmean          26917.830316   63210.172887    4406.877440     3781.032870   \nstd           15548.201987   44660.462305   11079.405928     7697.665317   \nmin               1.000000  -68771.780000  -12308.660000   -19131.100000   \n25%           13444.000000   23281.920000       0.000000        0.000000   \n50%           27003.000000   62519.120000       0.000000      697.080000   \n75%           40401.000000   92910.710000    2766.580000     4621.480000   \nmax           53794.000000  515101.800000  227313.620000   342802.630000   \n\n        Total Salary     Retirement  Health/Dental  Other Benefits  \\\ncount  291825.000000  291825.000000  291825.000000   291825.000000   \nmean    71398.083196   12937.728957    8921.893732     4644.276407   \nstd     52224.214099    9785.064808    4900.318083     3787.907010   \nmin    -68771.780000  -30621.430000   -2940.470000   -10636.500000   \n25%     25276.010000    3549.540000    4318.170000     1587.190000   \n50%     67847.870000   13167.730000   11966.610000     4349.090000   \n75%    103148.090000   19570.330000   12801.790000     6829.480000   \nmax    515101.800000  105052.980000   21872.800000    35157.630000   \n\n       Total Benefits  Total Compensation  \ncount   291825.000000       291825.000000  \nmean     26503.899096        97901.982292  \nstd      16800.143147        67777.549152  \nmin     -21295.150000       -74082.610000  \n25%       9604.500000        35817.450000  \n50%      30316.690000        98022.370000  \n75%      38720.820000       142058.420000  \nmax     141043.640000       653498.150000  ",
            "text/html": "<div>\n<style scoped>\n    .dataframe tbody tr th:only-of-type {\n        vertical-align: middle;\n    }\n\n    .dataframe tbody tr th {\n        vertical-align: top;\n    }\n\n    .dataframe thead th {\n        text-align: right;\n    }\n</style>\n<table border=\"1\" class=\"dataframe\">\n  <thead>\n    <tr style=\"text-align: right;\">\n      <th></th>\n      <th>Organization Group Code</th>\n      <th>Union Code</th>\n      <th>Job Family Code</th>\n      <th>Job Code</th>\n      <th>Employee Identifier</th>\n      <th>Salaries</th>\n      <th>Overtime</th>\n      <th>Other Salaries</th>\n      <th>Total Salary</th>\n      <th>Retirement</th>\n      <th>Health/Dental</th>\n      <th>Other Benefits</th>\n      <th>Total Benefits</th>\n      <th>Total Compensation</th>\n    </tr>\n  </thead>\n  <tbody>\n    <tr>\n      <th>count</th>\n      <td>291825.000000</td>\n      <td>291782.000000</td>\n      <td>257154.000000</td>\n      <td>247664.000000</td>\n      <td>291825.000000</td>\n      <td>291825.000000</td>\n      <td>291825.000000</td>\n      <td>291825.000000</td>\n      <td>291825.000000</td>\n      <td>291825.000000</td>\n      <td>291825.000000</td>\n      <td>291825.000000</td>\n      <td>291825.000000</td>\n      <td>291825.000000</td>\n    </tr>\n    <tr>\n      <th>mean</th>\n      <td>2.977051</td>\n      <td>489.506076</td>\n      <td>4778.559540</td>\n      <td>4911.798752</td>\n      <td>26917.830316</td>\n      <td>63210.172887</td>\n      <td>4406.877440</td>\n      <td>3781.032870</td>\n      <td>71398.083196</td>\n      <td>12937.728957</td>\n      <td>8921.893732</td>\n      <td>4644.276407</td>\n      <td>26503.899096</td>\n      <td>97901.982292</td>\n    </tr>\n    <tr>\n      <th>std</th>\n      <td>1.577771</td>\n      <td>333.761136</td>\n      <td>3090.283172</td>\n      <td>3128.412315</td>\n      <td>15548.201987</td>\n      <td>44660.462305</td>\n      <td>11079.405928</td>\n      <td>7697.665317</td>\n      <td>52224.214099</td>\n      <td>9785.064808</td>\n      <td>4900.318083</td>\n      <td>3787.907010</td>\n      <td>16800.143147</td>\n      <td>67777.549152</td>\n    </tr>\n    <tr>\n      <th>min</th>\n      <td>1.000000</td>\n      <td>1.000000</td>\n      <td>900.000000</td>\n      <td>109.000000</td>\n      <td>1.000000</td>\n      <td>-68771.780000</td>\n      <td>-12308.660000</td>\n      <td>-19131.100000</td>\n      <td>-68771.780000</td>\n      <td>-30621.430000</td>\n      <td>-2940.470000</td>\n      <td>-10636.500000</td>\n      <td>-21295.150000</td>\n      <td>-74082.610000</td>\n    </tr>\n    <tr>\n      <th>25%</th>\n      <td>2.000000</td>\n      <td>216.000000</td>\n      <td>2300.000000</td>\n      <td>2312.000000</td>\n      <td>13444.000000</td>\n      <td>23281.920000</td>\n      <td>0.000000</td>\n      <td>0.000000</td>\n      <td>25276.010000</td>\n      <td>3549.540000</td>\n      <td>4318.170000</td>\n      <td>1587.190000</td>\n      <td>9604.500000</td>\n      <td>35817.450000</td>\n    </tr>\n    <tr>\n      <th>50%</th>\n      <td>2.000000</td>\n      <td>535.000000</td>\n      <td>3200.000000</td>\n      <td>3417.000000</td>\n      <td>27003.000000</td>\n      <td>62519.120000</td>\n      <td>0.000000</td>\n      <td>697.080000</td>\n      <td>67847.870000</td>\n      <td>13167.730000</td>\n      <td>11966.610000</td>\n      <td>4349.090000</td>\n      <td>30316.690000</td>\n      <td>98022.370000</td>\n    </tr>\n    <tr>\n      <th>75%</th>\n      <td>4.000000</td>\n      <td>790.000000</td>\n      <td>8100.000000</td>\n      <td>8201.000000</td>\n      <td>40401.000000</td>\n      <td>92910.710000</td>\n      <td>2766.580000</td>\n      <td>4621.480000</td>\n      <td>103148.090000</td>\n      <td>19570.330000</td>\n      <td>12801.790000</td>\n      <td>6829.480000</td>\n      <td>38720.820000</td>\n      <td>142058.420000</td>\n    </tr>\n    <tr>\n      <th>max</th>\n      <td>7.000000</td>\n      <td>990.000000</td>\n      <td>9900.000000</td>\n      <td>9989.000000</td>\n      <td>53794.000000</td>\n      <td>515101.800000</td>\n      <td>227313.620000</td>\n      <td>342802.630000</td>\n      <td>515101.800000</td>\n      <td>105052.980000</td>\n      <td>21872.800000</td>\n      <td>35157.630000</td>\n      <td>141043.640000</td>\n      <td>653498.150000</td>\n    </tr>\n  </tbody>\n</table>\n</div>"
          },
          "metadata": {}
        }
      ],
      "execution_count": 4,
      "metadata": {
        "collapsed": true,
        "jupyter": {
          "source_hidden": false,
          "outputs_hidden": false
        },
        "nteract": {
          "transient": {
            "deleting": false
          }
        },
        "gather": {
          "logged": 1608980997895
        }
      }
    },
    {
      "cell_type": "markdown",
      "source": [
        "# Clean up the initial dataset\r\n",
        "As the dataset is vast, not all information is needed for the model to be trained.  \r\n",
        "If we omit redundant informaton, trained model will be much more efficient.\r\n",
        "\r\n",
        "We will be dropping columns:\r\n",
        "- *Employee identifier* since it is merely an identifier\r\n",
        "- *Department Code* since its' equivalent is *Department* \r\n",
        "- *Organization Group Code* since *Organization Group*\r\n",
        "- *Union Code* since its' equivalent is *Union*\r\n",
        "- *Job Family Code* since its' equivalent is *Job Family*\r\n",
        "- *Job Code* since its' equivalent is *Job*"
      ],
      "metadata": {
        "nteract": {
          "transient": {
            "deleting": false
          }
        }
      }
    },
    {
      "cell_type": "code",
      "source": [
        "\r\n",
        "aml_dataset = aml_dataset.drop_columns([\r\n",
        "    'Employee Identifier',\r\n",
        "    'Department Code',\r\n",
        "    'Organization Group Code',\r\n",
        "    'Union Code',\r\n",
        "    'Job Family Code',\r\n",
        "    'Job Code'])\r\n",
        "\r\n",
        "full_df = aml_dataset.to_pandas_dataframe()\r\n",
        "full_df.describe()"
      ],
      "outputs": [
        {
          "output_type": "execute_result",
          "execution_count": 7,
          "data": {
            "text/plain": "            Salaries       Overtime  Other Salaries   Total Salary  \\\ncount  291825.000000  291825.000000   291825.000000  291825.000000   \nmean    63210.172887    4406.877440     3781.032870   71398.083196   \nstd     44660.462305   11079.405928     7697.665317   52224.214099   \nmin    -68771.780000  -12308.660000   -19131.100000  -68771.780000   \n25%     23281.920000       0.000000        0.000000   25276.010000   \n50%     62519.120000       0.000000      697.080000   67847.870000   \n75%     92910.710000    2766.580000     4621.480000  103148.090000   \nmax    515101.800000  227313.620000   342802.630000  515101.800000   \n\n          Retirement  Health/Dental  Other Benefits  Total Benefits  \\\ncount  291825.000000  291825.000000   291825.000000   291825.000000   \nmean    12937.728957    8921.893732     4644.276407    26503.899096   \nstd      9785.064808    4900.318083     3787.907010    16800.143147   \nmin    -30621.430000   -2940.470000   -10636.500000   -21295.150000   \n25%      3549.540000    4318.170000     1587.190000     9604.500000   \n50%     13167.730000   11966.610000     4349.090000    30316.690000   \n75%     19570.330000   12801.790000     6829.480000    38720.820000   \nmax    105052.980000   21872.800000    35157.630000   141043.640000   \n\n       Total Compensation  \ncount       291825.000000  \nmean         97901.982292  \nstd          67777.549152  \nmin         -74082.610000  \n25%          35817.450000  \n50%          98022.370000  \n75%         142058.420000  \nmax         653498.150000  ",
            "text/html": "<div>\n<style scoped>\n    .dataframe tbody tr th:only-of-type {\n        vertical-align: middle;\n    }\n\n    .dataframe tbody tr th {\n        vertical-align: top;\n    }\n\n    .dataframe thead th {\n        text-align: right;\n    }\n</style>\n<table border=\"1\" class=\"dataframe\">\n  <thead>\n    <tr style=\"text-align: right;\">\n      <th></th>\n      <th>Salaries</th>\n      <th>Overtime</th>\n      <th>Other Salaries</th>\n      <th>Total Salary</th>\n      <th>Retirement</th>\n      <th>Health/Dental</th>\n      <th>Other Benefits</th>\n      <th>Total Benefits</th>\n      <th>Total Compensation</th>\n    </tr>\n  </thead>\n  <tbody>\n    <tr>\n      <th>count</th>\n      <td>291825.000000</td>\n      <td>291825.000000</td>\n      <td>291825.000000</td>\n      <td>291825.000000</td>\n      <td>291825.000000</td>\n      <td>291825.000000</td>\n      <td>291825.000000</td>\n      <td>291825.000000</td>\n      <td>291825.000000</td>\n    </tr>\n    <tr>\n      <th>mean</th>\n      <td>63210.172887</td>\n      <td>4406.877440</td>\n      <td>3781.032870</td>\n      <td>71398.083196</td>\n      <td>12937.728957</td>\n      <td>8921.893732</td>\n      <td>4644.276407</td>\n      <td>26503.899096</td>\n      <td>97901.982292</td>\n    </tr>\n    <tr>\n      <th>std</th>\n      <td>44660.462305</td>\n      <td>11079.405928</td>\n      <td>7697.665317</td>\n      <td>52224.214099</td>\n      <td>9785.064808</td>\n      <td>4900.318083</td>\n      <td>3787.907010</td>\n      <td>16800.143147</td>\n      <td>67777.549152</td>\n    </tr>\n    <tr>\n      <th>min</th>\n      <td>-68771.780000</td>\n      <td>-12308.660000</td>\n      <td>-19131.100000</td>\n      <td>-68771.780000</td>\n      <td>-30621.430000</td>\n      <td>-2940.470000</td>\n      <td>-10636.500000</td>\n      <td>-21295.150000</td>\n      <td>-74082.610000</td>\n    </tr>\n    <tr>\n      <th>25%</th>\n      <td>23281.920000</td>\n      <td>0.000000</td>\n      <td>0.000000</td>\n      <td>25276.010000</td>\n      <td>3549.540000</td>\n      <td>4318.170000</td>\n      <td>1587.190000</td>\n      <td>9604.500000</td>\n      <td>35817.450000</td>\n    </tr>\n    <tr>\n      <th>50%</th>\n      <td>62519.120000</td>\n      <td>0.000000</td>\n      <td>697.080000</td>\n      <td>67847.870000</td>\n      <td>13167.730000</td>\n      <td>11966.610000</td>\n      <td>4349.090000</td>\n      <td>30316.690000</td>\n      <td>98022.370000</td>\n    </tr>\n    <tr>\n      <th>75%</th>\n      <td>92910.710000</td>\n      <td>2766.580000</td>\n      <td>4621.480000</td>\n      <td>103148.090000</td>\n      <td>19570.330000</td>\n      <td>12801.790000</td>\n      <td>6829.480000</td>\n      <td>38720.820000</td>\n      <td>142058.420000</td>\n    </tr>\n    <tr>\n      <th>max</th>\n      <td>515101.800000</td>\n      <td>227313.620000</td>\n      <td>342802.630000</td>\n      <td>515101.800000</td>\n      <td>105052.980000</td>\n      <td>21872.800000</td>\n      <td>35157.630000</td>\n      <td>141043.640000</td>\n      <td>653498.150000</td>\n    </tr>\n  </tbody>\n</table>\n</div>"
          },
          "metadata": {}
        }
      ],
      "execution_count": 7,
      "metadata": {
        "collapsed": true,
        "jupyter": {
          "source_hidden": false,
          "outputs_hidden": false
        },
        "nteract": {
          "transient": {
            "deleting": false
          }
        },
        "gather": {
          "logged": 1608981257820
        }
      }
    },
    {
      "cell_type": "markdown",
      "source": [
        "# Split data into 'Test' and 'Train'\r\n",
        "A model has to be trained on a subset of the data.  \r\n",
        "After its' training, we will want to test the precision of our model - that is where test data will be used.  \r\n",
        "\r\n",
        "Code below:\r\n",
        "- Splits data into two sub-datasets *train* and *test*. \r\n",
        "  - Ratio for datasets will be respectively **0.9 : 0.1**"
      ],
      "metadata": {
        "nteract": {
          "transient": {
            "deleting": false
          }
        }
      }
    },
    {
      "cell_type": "code",
      "source": [
        "# Split using Azure Tabular Datasets\r\n",
        "# https://docs.microsoft.com/en-us/python/api/azureml-core/azureml.data.tabulardataset?view=azure-ml-py#random-split-percentage--seed-none-\r\n",
        "\r\n",
        "train_dataset, test_dataset = aml_dataset.random_split(0.9, seed=1)\r\n",
        "\r\n",
        "# Use Pandas DF only to check the data\r\n",
        "train_dataset_df = train_dataset.to_pandas_dataframe()\r\n",
        "test_dataset_df = test_dataset.to_pandas_dataframe()\r\n",
        "\r\n",
        "print(train_dataset_df.describe())"
      ],
      "outputs": [
        {
          "output_type": "stream",
          "name": "stdout",
          "text": [
            "            Salaries       Overtime  Other Salaries   Total Salary  \\\n",
            "count  262643.000000  262643.000000   262643.000000  262643.000000   \n",
            "mean    63193.957098    4409.742251     3774.593238   71378.292586   \n",
            "std     44639.959738   11080.242853     7648.548279   52191.296475   \n",
            "min    -68771.780000  -12308.660000   -19131.100000  -68771.780000   \n",
            "25%     23277.000000       0.000000        0.000000   25280.280000   \n",
            "50%     62482.600000       0.000000      700.000000   67805.720000   \n",
            "75%     92890.230000    2777.740000     4619.535000  103180.000000   \n",
            "max    507831.600000  227313.620000   342802.630000  507831.600000   \n",
            "\n",
            "          Retirement  Health/Dental  Other Benefits  Total Benefits  \\\n",
            "count  262643.000000  262643.000000   262643.000000   262643.000000   \n",
            "mean    12935.454862    8924.648188     4646.259312    26506.362362   \n",
            "std      9780.529058    4899.564239     3788.766179    16797.345943   \n",
            "min    -30621.430000   -1427.890000   -10469.090000   -21295.150000   \n",
            "25%      3550.975000    4330.005000     1587.460000     9611.250000   \n",
            "50%     13161.220000   11971.430000     4353.230000    30315.980000   \n",
            "75%     19567.900000   12801.790000     6829.670000    38728.415000   \n",
            "max    105052.980000   21872.800000    35157.630000   141043.640000   \n",
            "\n",
            "       Total Compensation  \n",
            "count       262643.000000  \n",
            "mean         97884.654948  \n",
            "std          67742.633030  \n",
            "min         -74082.610000  \n",
            "25%          35860.765000  \n",
            "50%          97966.790000  \n",
            "75%         142054.760000  \n",
            "max         648875.240000  \n"
          ]
        }
      ],
      "execution_count": 8,
      "metadata": {
        "collapsed": true,
        "jupyter": {
          "source_hidden": false,
          "outputs_hidden": false
        },
        "nteract": {
          "transient": {
            "deleting": false
          }
        },
        "gather": {
          "logged": 1608981359560
        }
      }
    },
    {
      "cell_type": "markdown",
      "source": [
        "# Create Azure Machine Learning compute target\r\n",
        "We want to utilize remote resources for doing the \"heavy lifting\".\r\n",
        "For that purpose we will create a remote compute instance - **salarySF**.  \r\n",
        "This name will be used in next cell instance.  \r\n",
        "\r\n",
        "\r\n",
        "Compute instance can be created manually from **Compute** tab or by running the code below.\r\n",
        "![compute_instance](./compute.png \"Compute Instance\")"
      ],
      "metadata": {
        "nteract": {
          "transient": {
            "deleting": false
          }
        }
      }
    },
    {
      "cell_type": "markdown",
      "source": [
        "# List remote Azure Machine Learning compute targets\r\n",
        "To confirm that our compute resource has been created, let's display all available compute targets.\r\n"
      ],
      "metadata": {
        "nteract": {
          "transient": {
            "deleting": false
          }
        }
      }
    },
    {
      "cell_type": "code",
      "source": [
        "from azureml.core.compute import AmlCompute\r\n",
        "from azureml.core.compute import ComputeTarget\r\n",
        "\r\n",
        "ComputeTarget.list(ws)"
      ],
      "outputs": [
        {
          "output_type": "execute_result",
          "execution_count": 9,
          "data": {
            "text/plain": "[AmlCompute(workspace=Workspace.create(name='akscaling-machine-learning', subscription_id='0caf907f-6588-4f39-8027-895017bfd9ed', resource_group='akscaling-devops'), name=automobile, id=/subscriptions/0caf907f-6588-4f39-8027-895017bfd9ed/resourceGroups/akscaling-devops/providers/Microsoft.MachineLearningServices/workspaces/akscaling-machine-learning/computes/automobile, type=AmlCompute, provisioning_state=Succeeded, location=westeurope, tags={'azureml.Designer': 'true'}),\n {\n   \"id\": \"/subscriptions/0caf907f-6588-4f39-8027-895017bfd9ed/resourceGroups/akscaling-devops/providers/Microsoft.MachineLearningServices/workspaces/akscaling-machine-learning/computes/salarypredict\",\n   \"name\": \"salarypredict\",\n   \"location\": \"westeurope\",\n   \"tags\": null,\n   \"properties\": {\n     \"description\": null,\n     \"computeType\": \"ComputeInstance\",\n     \"computeLocation\": \"westeurope\",\n     \"resourceId\": null,\n     \"provisioningErrors\": [\n       {\n         \"error\": {\n           \"code\": \"ClusterCoreQuotaReached\",\n           \"message\": \"Operation results in exceeding quota limits of Total Dedicated Regional vCPUs. Maximum allowed: 6, Current in use: 4, Additional requested: 4. Please contact support to increase the quota for resource type Total Dedicated Regional vCPUs\",\n           \"details\": []\n         }\n       }\n     ],\n     \"provisioningState\": \"Failed\",\n     \"properties\": {\n       \"vmSize\": \"STANDARD_DS3_V2\",\n       \"applications\": [],\n       \"connectivityEndpoints\": {\n         \"publicIpAddress\": null,\n         \"privateIpAddress\": null\n       },\n       \"sshSettings\": {\n         \"sshPublicAccess\": \"Disabled\",\n         \"adminUserName\": null,\n         \"adminPublicKey\": null,\n         \"sshPort\": null\n       },\n       \"personalComputeInstanceSettings\": null,\n       \"subnet\": {\n         \"id\": null\n       },\n       \"errors\": []\n     },\n     \"status\": {\n       \"errors\": [],\n       \"creationTime\": \"2020-12-26T10:40:03.158096+00:00\",\n       \"createdBy\": {\n         \"userObjectId\": \"9cca2d42-b7f8-4907-a670-dd4cfbd991ca\",\n         \"userTenantId\": \"3f36cba7-eba1-4073-b12d-ba24b0ead5a6\",\n         \"userName\": null\n       },\n       \"modifiedTime\": \"2020-12-26T10:40:18.825308+00:00\",\n       \"state\": \"CreateFailed\",\n       \"vmSize\": \"STANDARD_DS3_V2\"\n     }\n   }\n },\n {\n   \"id\": \"/subscriptions/0caf907f-6588-4f39-8027-895017bfd9ed/resourceGroups/akscaling-devops/providers/Microsoft.MachineLearningServices/workspaces/akscaling-machine-learning/computes/salarySF\",\n   \"name\": \"salarySF\",\n   \"location\": \"westeurope\",\n   \"tags\": null,\n   \"properties\": {\n     \"description\": null,\n     \"computeType\": \"ComputeInstance\",\n     \"computeLocation\": \"westeurope\",\n     \"resourceId\": null,\n     \"provisioningErrors\": null,\n     \"provisioningState\": \"Succeeded\",\n     \"properties\": {\n       \"vmSize\": \"STANDARD_DS2_V2\",\n       \"applications\": [\n         {\n           \"displayName\": \"Jupyter\",\n           \"endpointUri\": \"https://salarysf.westeurope.instances.azureml.ms\"\n         },\n         {\n           \"displayName\": \"Jupyter Lab\",\n           \"endpointUri\": \"https://salarysf.westeurope.instances.azureml.ms/lab\"\n         },\n         {\n           \"displayName\": \"RStudio\",\n           \"endpointUri\": \"https://salarysf-8787.westeurope.instances.azureml.ms\"\n         }\n       ],\n       \"connectivityEndpoints\": {\n         \"publicIpAddress\": \"20.73.129.224\",\n         \"privateIpAddress\": \"10.0.0.5\"\n       },\n       \"sshSettings\": {\n         \"sshPublicAccess\": \"Disabled\",\n         \"adminUserName\": \"azureuser\",\n         \"adminPublicKey\": null,\n         \"sshPort\": 4001\n       },\n       \"personalComputeInstanceSettings\": null,\n       \"subnet\": {\n         \"id\": null\n       },\n       \"errors\": []\n     },\n     \"status\": {\n       \"errors\": [],\n       \"creationTime\": \"2020-12-26T10:41:25.522143+00:00\",\n       \"createdBy\": {\n         \"userObjectId\": \"9cca2d42-b7f8-4907-a670-dd4cfbd991ca\",\n         \"userTenantId\": \"3f36cba7-eba1-4073-b12d-ba24b0ead5a6\",\n         \"userName\": null\n       },\n       \"modifiedTime\": \"2020-12-26T10:43:27.087150+00:00\",\n       \"state\": \"Running\",\n       \"vmSize\": \"STANDARD_DS2_V2\"\n     }\n   }\n }]"
          },
          "metadata": {}
        }
      ],
      "execution_count": 9,
      "metadata": {
        "collapsed": true,
        "jupyter": {
          "source_hidden": false,
          "outputs_hidden": false
        },
        "nteract": {
          "transient": {
            "deleting": false
          }
        },
        "gather": {
          "logged": 1608981791191
        }
      }
    },
    {
      "cell_type": "markdown",
      "source": [
        "# Connect to Remote Azure Machine Learning Computer\r\n",
        "Now we have to select the compute target we will use for training our model.  \r\n",
        "We will select **salarySF** compute instance created in previous step."
      ],
      "metadata": {
        "nteract": {
          "transient": {
            "deleting": false
          }
        }
      }
    },
    {
      "cell_type": "code",
      "source": [
        "# Define remote compute target to use\r\n",
        "# Further docs on Remote Compute Target: https://docs.microsoft.com/en-us/azure/machine-learning/how-to-auto-train-remote\r\n",
        "\r\n",
        "# Choose a name for your cluster.\r\n",
        "amlcompute_cluster_name = \"salarySF\"\r\n",
        "\r\n",
        "found = False\r\n",
        "# Check if this compute target already exists in the workspace.\r\n",
        "cts = ws.compute_targets\r\n",
        "\r\n",
        "if amlcompute_cluster_name in cts and cts[amlcompute_cluster_name].type == 'ComputeInstance':\r\n",
        "     found = True\r\n",
        "     print('Found existing training cluster.')\r\n",
        "     # Get existing cluster\r\n",
        "     # Method 1:\r\n",
        "     aml_remote_compute = cts[amlcompute_cluster_name]\r\n",
        "     # Method 2:\r\n",
        "     # aml_remote_compute = ComputeTarget(ws, amlcompute_cluster_name)\r\n",
        "    \r\n",
        "if not found:\r\n",
        "     print('Creating a new training cluster...')\r\n",
        "     provisioning_config = AmlCompute.provisioning_configuration(vm_size = \"STANDARD_D13_V2\", # for GPU, use \"STANDARD_NC12\"\r\n",
        "                                                                 #vm_priority = 'lowpriority', # optional\r\n",
        "                                                                 max_nodes = 20)\r\n",
        "     # Create the cluster.\r\n",
        "     aml_remote_compute = ComputeTarget.create(ws, amlcompute_cluster_name, provisioning_config)\r\n",
        "    \r\n",
        "print('Checking cluster status...')\r\n",
        "# Can poll for a minimum number of nodes and for a specific timeout.\r\n",
        "# If no min_node_count is provided, it will use the scale settings for the cluster.\r\n",
        "aml_remote_compute.wait_for_completion(show_output = True)"
      ],
      "outputs": [
        {
          "output_type": "stream",
          "name": "stdout",
          "text": [
            "Found existing training cluster.\n",
            "Checking cluster status...\n",
            "\n",
            "Running\n"
          ]
        }
      ],
      "execution_count": 30,
      "metadata": {
        "collapsed": true,
        "jupyter": {
          "source_hidden": false,
          "outputs_hidden": false
        },
        "nteract": {
          "transient": {
            "deleting": false
          }
        },
        "gather": {
          "logged": 1608984917393
        }
      }
    },
    {
      "cell_type": "code",
      "source": [
        "# For additional details of current AmlCompute status:\r\n",
        "aml_remote_compute.get_status().serialize()"
      ],
      "outputs": [
        {
          "output_type": "execute_result",
          "execution_count": 17,
          "data": {
            "text/plain": "{'errors': [],\n 'creationTime': '2020-12-26T10:41:25.522143+00:00',\n 'createdBy': {'userObjectId': '9cca2d42-b7f8-4907-a670-dd4cfbd991ca',\n  'userTenantId': '3f36cba7-eba1-4073-b12d-ba24b0ead5a6',\n  'userName': None},\n 'modifiedTime': '2020-12-26T10:43:27.087150+00:00',\n 'state': 'Running',\n 'vmSize': 'STANDARD_DS2_V2'}"
          },
          "metadata": {}
        }
      ],
      "execution_count": 17,
      "metadata": {
        "collapsed": true,
        "jupyter": {
          "source_hidden": false,
          "outputs_hidden": false
        },
        "nteract": {
          "transient": {
            "deleting": false
          }
        },
        "gather": {
          "logged": 1608982405911
        }
      }
    },
    {
      "cell_type": "markdown",
      "source": [
        "# List and select primary metric to drive the AutoML regression problem\r\n",
        "The most important part of doing any kind of machine learning is knowing what problem we are solving.  \r\n",
        "In our case, we are trying to predict salary of San Francisco employees - in that case we are facing **Regression** problem.\r\n"
      ],
      "metadata": {
        "nteract": {
          "transient": {
            "deleting": false
          }
        }
      }
    },
    {
      "cell_type": "code",
      "source": [
        "from azureml.train import automl\r\n",
        "\r\n",
        "# List of possible primary metrics is here:\r\n",
        "# https://docs.microsoft.com/en-us/azure/machine-learning/how-to-configure-auto-train#primary-metric\r\n",
        "    \r\n",
        "# Get a list of valid metrics for your given task\r\n",
        "automl.utilities.get_primary_metrics('Regression')\r\n",
        "\r\n",
        "# We'll use 'r2_score' as primary metric (Closer to 1.00 is better, as correlation is higher)"
      ],
      "outputs": [],
      "execution_count": null,
      "metadata": {
        "collapsed": true,
        "jupyter": {
          "source_hidden": false,
          "outputs_hidden": false
        },
        "nteract": {
          "transient": {
            "deleting": false
          }
        }
      }
    },
    {
      "cell_type": "markdown",
      "source": [
        "# Define AutoML Experiment settings (With AML Remote Compute)\r\n",
        "Lets define the run **configuration**.  \r\n",
        "We set:\r\n",
        "- regression as task we are doing\r\n",
        "- r2_score as a primary metric to be calculated\r\n",
        "   - r2 score is used for checking whether some variables are correlated. So if it is near 1 - variables are perfectly correlated.\r\n",
        "- *Total Salary* as label column"
      ],
      "metadata": {
        "nteract": {
          "transient": {
            "deleting": false
          }
        }
      }
    },
    {
      "cell_type": "code",
      "source": [
        "import logging\r\n",
        "import os\r\n",
        "\r\n",
        "from azureml.train.automl import AutoMLConfig\r\n",
        "\r\n",
        "project_folder = './mchkolendo'\r\n",
        "os.makedirs(project_folder, exist_ok=True)\r\n",
        "\r\n",
        "automl_config = AutoMLConfig(compute_target=aml_remote_compute,\r\n",
        "                             task='regression',\r\n",
        "                             primary_metric='r2_score',\r\n",
        "                             experiment_timeout_minutes=15,                            \r\n",
        "                             training_data=train_dataset,\r\n",
        "                             label_column_name=\"Total Salary\",\r\n",
        "                             n_cross_validations=5,\r\n",
        "                             enable_early_stopping=True,\r\n",
        "                             featurization='auto',\r\n",
        "                             debug_log='automated_ml_errors.log',\r\n",
        "                             verbosity=logging.INFO,\r\n",
        "                             path=project_folder\r\n",
        "                             )\r\n",
        "\r\n",
        "\r\n",
        "# https://docs.microsoft.com/en-us/python/api/azureml-train-automl-client/azureml.train.automl.automlconfig.automlconfig?view=azure-ml-py\r\n",
        "# Explanation of Settings: https://docs.microsoft.com/en-us/azure/machine-learning/how-to-configure-auto-train#configure-your-experiment-settings\r\n",
        "# AutoMLConfig info on: \r\n",
        "# https://docs.microsoft.com/en-us/python/api/azureml-train-automl-client/azureml.train.automl.automlconfig.automlconfig"
      ],
      "outputs": [],
      "execution_count": 18,
      "metadata": {
        "collapsed": true,
        "jupyter": {
          "source_hidden": false,
          "outputs_hidden": false
        },
        "nteract": {
          "transient": {
            "deleting": false
          }
        },
        "gather": {
          "logged": 1608982668994
        }
      }
    },
    {
      "cell_type": "markdown",
      "source": [
        "# Run experiment with multiple child runs\r\n",
        "Now it is time to run our experiment.  \r\n",
        "Beware that it can take up to 30 mins if you decide to run it on the lowest CPU compute target.  "
      ],
      "metadata": {
        "nteract": {
          "transient": {
            "deleting": false
          }
        }
      }
    },
    {
      "cell_type": "code",
      "source": [
        "from azureml.core import Experiment\r\n",
        "from datetime import datetime\r\n",
        "\r\n",
        "now = datetime.now()\r\n",
        "time_string = now.strftime(\"%m-%d-%Y-%H\")\r\n",
        "experiment_name = \"regress-automl-remote-{0}\".format(time_string)\r\n",
        "print(experiment_name)\r\n",
        "\r\n",
        "experiment = Experiment(workspace=ws, name=experiment_name)\r\n",
        "\r\n",
        "import time\r\n",
        "start_time = time.time()\r\n",
        "            \r\n",
        "run = experiment.submit(automl_config, show_output=True)\r\n",
        "\r\n",
        "print('Manual run timing: --- %s seconds needed for running the whole Remote AutoML Experiment ---' % (time.time() - start_time))"
      ],
      "outputs": [
        {
          "output_type": "stream",
          "name": "stdout",
          "text": [
            "regress-automl-remote-12-26-2020-11\n",
            "Running on remote.\n",
            "No run_configuration provided, running on salarySF with default configuration\n",
            "Running on remote compute: salarySF\n",
            "Parent Run ID: AutoML_d4a44bd2-f951-428a-bd04-ed80fa932d00\n",
            "\n",
            "Current status: FeaturesGeneration. Generating features for the dataset.\n",
            "Current status: DatasetFeaturization. Beginning to fit featurizers and featurize the dataset.\n",
            "Current status: DatasetCrossValidationSplit. Generating individually featurized CV splits.\n",
            "Current status: ModelSelection. Beginning model selection.\n",
            "\n",
            "****************************************************************************************************\n",
            "DATA GUARDRAILS: \n",
            "\n",
            "TYPE:         Missing feature values imputation\n",
            "STATUS:       PASSED\n",
            "DESCRIPTION:  No feature missing values were detected in the training data.\n",
            "              Learn more about missing value imputation: https://aka.ms/AutomatedMLFeaturization\n",
            "\n",
            "****************************************************************************************************\n",
            "\n",
            "TYPE:         High cardinality feature detection\n",
            "STATUS:       DONE\n",
            "DESCRIPTION:  High cardinality features were detected in your inputs and handled.\n",
            "              Learn more about high cardinality feature handling: https://aka.ms/AutomatedMLFeaturization\n",
            "DETAILS:      High cardinality features refer to columns that contain a large percentage of unique values.\n",
            "+---------------------------------+---------------------------------+\n",
            "|Column name                      |Column Content Type              |\n",
            "+=================================+=================================+\n",
            "|Job                              |categorical_hash                 |\n",
            "+---------------------------------+---------------------------------+\n",
            "\n",
            "****************************************************************************************************\n",
            "\n",
            "****************************************************************************************************\n",
            "ITERATION: The iteration being evaluated.\n",
            "PIPELINE: A summary description of the pipeline being evaluated.\n",
            "DURATION: Time taken for the current iteration.\n",
            "METRIC: The result of computing score on the fitted pipeline.\n",
            "BEST: The best observed score thus far.\n",
            "****************************************************************************************************\n",
            "\n",
            " ITERATION   PIPELINE                                       DURATION      METRIC      BEST\n",
            "         0   MaxAbsScaler LightGBM                          0:01:10       0.9992    0.9992\n",
            "         1   MaxAbsScaler XGBoostRegressor                  0:03:44       0.9990    0.9992\n",
            "         2   SparseNormalizer XGBoostRegressor              0:06:23       0.9923    0.9992\n",
            "         3   MaxAbsScaler RandomForest                      0:03:38          nan    0.9992\n",
            "         4    VotingEnsemble                                0:01:10       0.9994    0.9994\n",
            "         5    StackEnsemble                                 0:01:25       0.9994    0.9994\n",
            "Manual run timing: --- 1722.9728724956512 seconds needed for running the whole Remote AutoML Experiment ---\n"
          ]
        }
      ],
      "execution_count": 19,
      "metadata": {
        "collapsed": true,
        "jupyter": {
          "source_hidden": false,
          "outputs_hidden": false
        },
        "nteract": {
          "transient": {
            "deleting": false
          }
        },
        "gather": {
          "logged": 1608984434868
        }
      }
    },
    {
      "cell_type": "markdown",
      "source": [
        "## Example of a result of the 28 min run\r\n",
        "![run_result](./run_result.png \"Run result\")"
      ],
      "metadata": {
        "nteract": {
          "transient": {
            "deleting": false
          }
        }
      }
    },
    {
      "cell_type": "markdown",
      "source": [
        "# Measure total time needed for the whole AutoML process"
      ],
      "metadata": {
        "nteract": {
          "transient": {
            "deleting": false
          }
        }
      }
    },
    {
      "cell_type": "code",
      "source": [
        "import time\r\n",
        "import datetime as dt\r\n",
        "\r\n",
        "run_details = run.get_details()\r\n",
        "\r\n",
        "# Like: 2020-01-12T23:11:56.292703Z\r\n",
        "end_time_utc_str = run_details['endTimeUtc'].split(\".\")[0]\r\n",
        "start_time_utc_str = run_details['startTimeUtc'].split(\".\")[0]\r\n",
        "timestamp_end = time.mktime(datetime.strptime(end_time_utc_str, \"%Y-%m-%dT%H:%M:%S\").timetuple())\r\n",
        "timestamp_start = time.mktime(datetime.strptime(start_time_utc_str, \"%Y-%m-%dT%H:%M:%S\").timetuple())\r\n",
        "\r\n",
        "parent_run_time = timestamp_end - timestamp_start\r\n",
        "print('Run Timing: --- %s seconds needed for running the whole Remote AutoML Experiment ---' % (parent_run_time))"
      ],
      "outputs": [
        {
          "output_type": "stream",
          "name": "stdout",
          "text": [
            "Run Timing: --- 1687.0 seconds needed for running the whole Remote AutoML Experiment ---\n"
          ]
        }
      ],
      "execution_count": 22,
      "metadata": {
        "collapsed": true,
        "jupyter": {
          "source_hidden": false,
          "outputs_hidden": false
        },
        "nteract": {
          "transient": {
            "deleting": false
          }
        },
        "gather": {
          "logged": 1608984584485
        }
      }
    },
    {
      "cell_type": "markdown",
      "source": [
        "# Find the Best Model \r\n",
        "Now , let us select the best model, which we will use to on our **test** data.\r\n"
      ],
      "metadata": {
        "nteract": {
          "transient": {
            "deleting": false
          }
        }
      }
    },
    {
      "cell_type": "code",
      "source": [
        "best_run, fitted_model = run.get_output()\r\n",
        "print(best_run)\r\n",
        "print(fitted_model)"
      ],
      "outputs": [
        {
          "output_type": "stream",
          "name": "stdout",
          "text": [
            "Run(Experiment: regress-automl-remote-12-26-2020-11,\n",
            "Id: AutoML_d4a44bd2-f951-428a-bd04-ed80fa932d00_4,\n",
            "Type: azureml.scriptrun,\n",
            "Status: Completed)\n",
            "RegressionPipeline(pipeline=Pipeline(memory=None,\n",
            "                                     steps=[('datatransformer',\n",
            "                                             DataTransformer(enable_dnn=None,\n",
            "                                                             enable_feature_sweeping=None,\n",
            "                                                             feature_sweeping_config=None,\n",
            "                                                             feature_sweeping_timeout=None,\n",
            "                                                             featurization_config=None,\n",
            "                                                             force_text_dnn=None,\n",
            "                                                             is_cross_validation=None,\n",
            "                                                             is_onnx_compatible=None,\n",
            "                                                             logger=None,\n",
            "                                                             observer=None,\n",
            "                                                             task=None,\n",
            "                                                             working_dir=None)),\n",
            "                                            ('pre...\n",
            "                                                                                                                         min_child_weight=1,\n",
            "                                                                                                                         missing=nan,\n",
            "                                                                                                                         n_estimators=800,\n",
            "                                                                                                                         n_jobs=1,\n",
            "                                                                                                                         nthread=None,\n",
            "                                                                                                                         objective='reg:squarederror',\n",
            "                                                                                                                         random_state=0,\n",
            "                                                                                                                         reg_alpha=2.1875,\n",
            "                                                                                                                         reg_lambda=0.7291666666666667,\n",
            "                                                                                                                         scale_pos_weight=1,\n",
            "                                                                                                                         seed=None,\n",
            "                                                                                                                         silent=None,\n",
            "                                                                                                                         subsample=0.9,\n",
            "                                                                                                                         tree_method='hist',\n",
            "                                                                                                                         verbose=-10,\n",
            "                                                                                                                         verbosity=0))],\n",
            "                                                                                                verbose=False))],\n",
            "                                                                          weights=[0.5333333333333333,\n",
            "                                                                                   0.4,\n",
            "                                                                                   0.06666666666666667]))],\n",
            "                                     verbose=False),\n",
            "                   stddev=None)\n"
          ]
        }
      ],
      "execution_count": 23,
      "metadata": {
        "collapsed": true,
        "jupyter": {
          "source_hidden": false,
          "outputs_hidden": false
        },
        "nteract": {
          "transient": {
            "deleting": false
          }
        },
        "gather": {
          "logged": 1608984658478
        }
      }
    },
    {
      "cell_type": "markdown",
      "source": [
        "# Make predictions\r\n",
        "## Extract X values (feature columns) from test dataset and convert to NumPi array for predicting\r\n",
        "We will extract the data which will be used for testing, except **Total Salary** column, which our algorithm  \r\n",
        "will try to predict."
      ],
      "metadata": {
        "nteract": {
          "transient": {
            "deleting": false
          }
        }
      }
    },
    {
      "cell_type": "code",
      "source": [
        "import pandas as pd\r\n",
        "\r\n",
        "#Remove Label/y column\r\n",
        "if 'Total Salary' in test_dataset_df.columns:\r\n",
        "    y_test_df = test_dataset_df.pop('Total Salary')\r\n",
        "\r\n",
        "x_test_df = test_dataset_df"
      ],
      "outputs": [],
      "execution_count": 24,
      "metadata": {
        "collapsed": true,
        "jupyter": {
          "source_hidden": false,
          "outputs_hidden": false
        },
        "nteract": {
          "transient": {
            "deleting": false
          }
        },
        "gather": {
          "logged": 1608984805527
        }
      }
    },
    {
      "cell_type": "markdown",
      "source": [
        "## Make the actual predictions"
      ],
      "metadata": {
        "nteract": {
          "transient": {
            "deleting": false
          }
        }
      }
    },
    {
      "cell_type": "code",
      "source": [
        "# Try the best model\r\n",
        "y_predictions = fitted_model.predict(x_test_df)\r\n",
        "\r\n",
        "print('10 predictions: ')\r\n",
        "print(y_predictions[:10])"
      ],
      "outputs": [
        {
          "output_type": "stream",
          "name": "stdout",
          "text": [
            "10 predictions: \n",
            "[ 77495.7675608   29703.55313644  17812.35784344  37377.63965943\n",
            "  93681.70932765  68476.90563007  96267.81283341  99040.48414987\n",
            " 116414.66406647  49880.47664791]\n"
          ]
        }
      ],
      "execution_count": 25,
      "metadata": {
        "collapsed": true,
        "jupyter": {
          "source_hidden": false,
          "outputs_hidden": false
        },
        "nteract": {
          "transient": {
            "deleting": false
          }
        },
        "gather": {
          "logged": 1608984810128
        }
      }
    },
    {
      "cell_type": "code",
      "source": [
        "y_predictions.shape"
      ],
      "outputs": [
        {
          "output_type": "execute_result",
          "execution_count": 26,
          "data": {
            "text/plain": "(29182,)"
          },
          "metadata": {}
        }
      ],
      "execution_count": 26,
      "metadata": {
        "collapsed": true,
        "jupyter": {
          "source_hidden": false,
          "outputs_hidden": false
        },
        "nteract": {
          "transient": {
            "deleting": false
          }
        },
        "gather": {
          "logged": 1608984813915
        }
      }
    },
    {
      "cell_type": "markdown",
      "source": [
        "## Calculate the R2 Score with Test Dataset\r\n",
        "![r2_score](./r2_score.png \"r2_score\")\r\n",
        "As we can see on the screen up, our r2_score is near 100%,  \r\n",
        "which means a predicted value is nearly identical.\r\n"
      ],
      "metadata": {
        "nteract": {
          "transient": {
            "deleting": false
          }
        }
      }
    },
    {
      "cell_type": "code",
      "source": [
        "from sklearn.metrics import r2_score\r\n",
        "\r\n",
        "print('R2 Score:')\r\n",
        "r2_score(y_test_df, y_predictions)"
      ],
      "outputs": [
        {
          "output_type": "stream",
          "name": "stdout",
          "text": [
            "R2 Score:\n"
          ]
        },
        {
          "output_type": "execute_result",
          "execution_count": 31,
          "data": {
            "text/plain": "0.9991824252264535"
          },
          "metadata": {}
        }
      ],
      "execution_count": 31,
      "metadata": {
        "collapsed": true,
        "jupyter": {
          "source_hidden": false,
          "outputs_hidden": false
        },
        "nteract": {
          "transient": {
            "deleting": false
          }
        },
        "gather": {
          "logged": 1608984960394
        }
      }
    }
  ],
  "metadata": {
    "kernelspec": {
      "name": "python3-azureml",
      "language": "python",
      "display_name": "Python 3.6 - AzureML"
    },
    "language_info": {
      "name": "python",
      "version": "3.6.9",
      "mimetype": "text/x-python",
      "codemirror_mode": {
        "name": "ipython",
        "version": 3
      },
      "pygments_lexer": "ipython3",
      "nbconvert_exporter": "python",
      "file_extension": ".py"
    },
    "nteract": {
      "version": "nteract-front-end@1.0.0"
    },
    "kernel_info": {
      "name": "python3-azureml"
    }
  },
  "nbformat": 4,
  "nbformat_minor": 2
}